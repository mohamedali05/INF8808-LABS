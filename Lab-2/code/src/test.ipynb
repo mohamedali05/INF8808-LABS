{
 "cells": [
  {
   "cell_type": "code",
   "execution_count": 15,
   "id": "initial_id",
   "metadata": {
    "collapsed": true,
    "ExecuteTime": {
     "end_time": "2025-05-14T13:34:43.605303200Z",
     "start_time": "2025-05-14T13:34:43.593601700Z"
    }
   },
   "outputs": [
    {
     "data": {
      "text/plain": "     Act  Scene  Line    Player  \\\n0      1      0     1  RICHMOND   \n1      1      1     1   SAMPSON   \n2      1      1     2   GREGORY   \n3      1      1     3   SAMPSON   \n4      1      1     4   GREGORY   \n..   ...    ...   ...       ...   \n836    5      3    61    PRINCE   \n837    5      3    62   CAPULET   \n838    5      3    63  MONTAGUE   \n839    5      3    64   CAPULET   \n840    5      3    65    PRINCE   \n\n                                            PlayerLine  \n0    Two households, both alike in dignity, / In fa...  \n1          Gregory, o' my word, we'll not carry coals.  \n2                  No, for then we should be colliers.  \n3              I mean, an we be in choler, we'll draw.  \n4    Ay, while you live, draw your neck out o' the ...  \n..                                                 ...  \n836  This letter doth make good the friar's words, ...  \n837  O brother Montague, give me thy hand: / This i...  \n838  But I can give thee more: / For I will raise h...  \n839  As rich shall Romeo's by his lady's lie, / Poo...  \n840  A glooming peace this morning with it brings, ...  \n\n[841 rows x 5 columns]",
      "text/html": "<div>\n<style scoped>\n    .dataframe tbody tr th:only-of-type {\n        vertical-align: middle;\n    }\n\n    .dataframe tbody tr th {\n        vertical-align: top;\n    }\n\n    .dataframe thead th {\n        text-align: right;\n    }\n</style>\n<table border=\"1\" class=\"dataframe\">\n  <thead>\n    <tr style=\"text-align: right;\">\n      <th></th>\n      <th>Act</th>\n      <th>Scene</th>\n      <th>Line</th>\n      <th>Player</th>\n      <th>PlayerLine</th>\n    </tr>\n  </thead>\n  <tbody>\n    <tr>\n      <th>0</th>\n      <td>1</td>\n      <td>0</td>\n      <td>1</td>\n      <td>RICHMOND</td>\n      <td>Two households, both alike in dignity, / In fa...</td>\n    </tr>\n    <tr>\n      <th>1</th>\n      <td>1</td>\n      <td>1</td>\n      <td>1</td>\n      <td>SAMPSON</td>\n      <td>Gregory, o' my word, we'll not carry coals.</td>\n    </tr>\n    <tr>\n      <th>2</th>\n      <td>1</td>\n      <td>1</td>\n      <td>2</td>\n      <td>GREGORY</td>\n      <td>No, for then we should be colliers.</td>\n    </tr>\n    <tr>\n      <th>3</th>\n      <td>1</td>\n      <td>1</td>\n      <td>3</td>\n      <td>SAMPSON</td>\n      <td>I mean, an we be in choler, we'll draw.</td>\n    </tr>\n    <tr>\n      <th>4</th>\n      <td>1</td>\n      <td>1</td>\n      <td>4</td>\n      <td>GREGORY</td>\n      <td>Ay, while you live, draw your neck out o' the ...</td>\n    </tr>\n    <tr>\n      <th>...</th>\n      <td>...</td>\n      <td>...</td>\n      <td>...</td>\n      <td>...</td>\n      <td>...</td>\n    </tr>\n    <tr>\n      <th>836</th>\n      <td>5</td>\n      <td>3</td>\n      <td>61</td>\n      <td>PRINCE</td>\n      <td>This letter doth make good the friar's words, ...</td>\n    </tr>\n    <tr>\n      <th>837</th>\n      <td>5</td>\n      <td>3</td>\n      <td>62</td>\n      <td>CAPULET</td>\n      <td>O brother Montague, give me thy hand: / This i...</td>\n    </tr>\n    <tr>\n      <th>838</th>\n      <td>5</td>\n      <td>3</td>\n      <td>63</td>\n      <td>MONTAGUE</td>\n      <td>But I can give thee more: / For I will raise h...</td>\n    </tr>\n    <tr>\n      <th>839</th>\n      <td>5</td>\n      <td>3</td>\n      <td>64</td>\n      <td>CAPULET</td>\n      <td>As rich shall Romeo's by his lady's lie, / Poo...</td>\n    </tr>\n    <tr>\n      <th>840</th>\n      <td>5</td>\n      <td>3</td>\n      <td>65</td>\n      <td>PRINCE</td>\n      <td>A glooming peace this morning with it brings, ...</td>\n    </tr>\n  </tbody>\n</table>\n<p>841 rows × 5 columns</p>\n</div>"
     },
     "execution_count": 15,
     "metadata": {},
     "output_type": "execute_result"
    }
   ],
   "source": [
    "import pandas as pd \n",
    "\n",
    "df = pd.read_csv('./assets/data/romeo_and_juliet.csv')\n",
    "df\n",
    "#proc_data = summarize_lines(dataframe)"
   ]
  },
  {
   "cell_type": "code",
   "execution_count": 21,
   "outputs": [
    {
     "data": {
      "text/plain": "    Act           Player  LineCount  LinePercent\n0     1          ABRAHAM          5     2.118644\n1     1         BENVOLIO         34    14.406780\n2     1          CAPULET         14     5.932203\n3     1    FIRST CITIZEN          1     0.423729\n4     1    FIRST SERVANT          3     1.271186\n..  ...              ...        ...          ...\n66    5            PARIS          5     5.681818\n67    5           PRINCE         11    12.500000\n68    5            ROMEO         14    15.909091\n69    5  SECOND WATCHMAN          1     1.136364\n70    5   THIRD WATCHMAN          1     1.136364\n\n[71 rows x 4 columns]",
      "text/html": "<div>\n<style scoped>\n    .dataframe tbody tr th:only-of-type {\n        vertical-align: middle;\n    }\n\n    .dataframe tbody tr th {\n        vertical-align: top;\n    }\n\n    .dataframe thead th {\n        text-align: right;\n    }\n</style>\n<table border=\"1\" class=\"dataframe\">\n  <thead>\n    <tr style=\"text-align: right;\">\n      <th></th>\n      <th>Act</th>\n      <th>Player</th>\n      <th>LineCount</th>\n      <th>LinePercent</th>\n    </tr>\n  </thead>\n  <tbody>\n    <tr>\n      <th>0</th>\n      <td>1</td>\n      <td>ABRAHAM</td>\n      <td>5</td>\n      <td>2.118644</td>\n    </tr>\n    <tr>\n      <th>1</th>\n      <td>1</td>\n      <td>BENVOLIO</td>\n      <td>34</td>\n      <td>14.406780</td>\n    </tr>\n    <tr>\n      <th>2</th>\n      <td>1</td>\n      <td>CAPULET</td>\n      <td>14</td>\n      <td>5.932203</td>\n    </tr>\n    <tr>\n      <th>3</th>\n      <td>1</td>\n      <td>FIRST CITIZEN</td>\n      <td>1</td>\n      <td>0.423729</td>\n    </tr>\n    <tr>\n      <th>4</th>\n      <td>1</td>\n      <td>FIRST SERVANT</td>\n      <td>3</td>\n      <td>1.271186</td>\n    </tr>\n    <tr>\n      <th>...</th>\n      <td>...</td>\n      <td>...</td>\n      <td>...</td>\n      <td>...</td>\n    </tr>\n    <tr>\n      <th>66</th>\n      <td>5</td>\n      <td>PARIS</td>\n      <td>5</td>\n      <td>5.681818</td>\n    </tr>\n    <tr>\n      <th>67</th>\n      <td>5</td>\n      <td>PRINCE</td>\n      <td>11</td>\n      <td>12.500000</td>\n    </tr>\n    <tr>\n      <th>68</th>\n      <td>5</td>\n      <td>ROMEO</td>\n      <td>14</td>\n      <td>15.909091</td>\n    </tr>\n    <tr>\n      <th>69</th>\n      <td>5</td>\n      <td>SECOND WATCHMAN</td>\n      <td>1</td>\n      <td>1.136364</td>\n    </tr>\n    <tr>\n      <th>70</th>\n      <td>5</td>\n      <td>THIRD WATCHMAN</td>\n      <td>1</td>\n      <td>1.136364</td>\n    </tr>\n  </tbody>\n</table>\n<p>71 rows × 4 columns</p>\n</div>"
     },
     "execution_count": 21,
     "metadata": {},
     "output_type": "execute_result"
    }
   ],
   "source": [
    "lines_per_act = df.groupby(['Act']).size().reset_index(name='LineCountTotal')\n",
    "grouped = df.groupby(['Act', 'Player']).size().reset_index(name='LineCount')\n",
    "merged = pd.merge(grouped, lines_per_act, on='Act')\n",
    "\n",
    "merged['LinePercent'] = (merged['LineCount'] / merged['LineCountTotal']) * 100\n",
    "merged.drop('LineCountTotal' , axis = 1 , inplace=True)\n",
    "\n",
    "merged"
   ],
   "metadata": {
    "collapsed": false,
    "ExecuteTime": {
     "end_time": "2025-05-14T13:40:10.979196900Z",
     "start_time": "2025-05-14T13:40:10.965873700Z"
    }
   },
   "id": "f8a0fb0bf3a3917"
  },
  {
   "cell_type": "code",
   "execution_count": 22,
   "outputs": [
    {
     "data": {
      "text/plain": "    Act          Player  LineCount  LinePercent\n0     1        BENVOLIO         34    14.406780\n1     1          JULIET         16     6.779661\n2     1           NURSE         20     8.474576\n3     1           OTHER         96    40.677966\n4     1           ROMEO         50    21.186441\n5     1         SAMPSON         20     8.474576\n6     2        BENVOLIO         16     7.804878\n7     2          JULIET         40    19.512195\n8     2        MERCUTIO         34    16.585366\n9     2           NURSE         32    15.609756\n10    2           OTHER         18     8.780488\n11    2           ROMEO         65    31.707317\n12    3          JULIET         40    20.304569\n13    3    LADY CAPULET         19     9.644670\n14    3        MERCUTIO         17     8.629442\n15    3           NURSE         27    13.705584\n16    3           OTHER         60    30.456853\n17    3           ROMEO         34    17.258883\n18    4         CAPULET         20    17.391304\n19    4  FRIAR LAURENCE         12    10.434783\n20    4          JULIET         19    16.521739\n21    4    LADY CAPULET         11     9.565217\n22    4           OTHER         40    34.782609\n23    4           PARIS         13    11.304348\n24    5       BALTHASAR         12    13.636364\n25    5  FIRST WATCHMAN          6     6.818182\n26    5  FRIAR LAURENCE         14    15.909091\n27    5           OTHER         31    35.227273\n28    5          PRINCE         11    12.500000\n29    5           ROMEO         14    15.909091",
      "text/html": "<div>\n<style scoped>\n    .dataframe tbody tr th:only-of-type {\n        vertical-align: middle;\n    }\n\n    .dataframe tbody tr th {\n        vertical-align: top;\n    }\n\n    .dataframe thead th {\n        text-align: right;\n    }\n</style>\n<table border=\"1\" class=\"dataframe\">\n  <thead>\n    <tr style=\"text-align: right;\">\n      <th></th>\n      <th>Act</th>\n      <th>Player</th>\n      <th>LineCount</th>\n      <th>LinePercent</th>\n    </tr>\n  </thead>\n  <tbody>\n    <tr>\n      <th>0</th>\n      <td>1</td>\n      <td>BENVOLIO</td>\n      <td>34</td>\n      <td>14.406780</td>\n    </tr>\n    <tr>\n      <th>1</th>\n      <td>1</td>\n      <td>JULIET</td>\n      <td>16</td>\n      <td>6.779661</td>\n    </tr>\n    <tr>\n      <th>2</th>\n      <td>1</td>\n      <td>NURSE</td>\n      <td>20</td>\n      <td>8.474576</td>\n    </tr>\n    <tr>\n      <th>3</th>\n      <td>1</td>\n      <td>OTHER</td>\n      <td>96</td>\n      <td>40.677966</td>\n    </tr>\n    <tr>\n      <th>4</th>\n      <td>1</td>\n      <td>ROMEO</td>\n      <td>50</td>\n      <td>21.186441</td>\n    </tr>\n    <tr>\n      <th>5</th>\n      <td>1</td>\n      <td>SAMPSON</td>\n      <td>20</td>\n      <td>8.474576</td>\n    </tr>\n    <tr>\n      <th>6</th>\n      <td>2</td>\n      <td>BENVOLIO</td>\n      <td>16</td>\n      <td>7.804878</td>\n    </tr>\n    <tr>\n      <th>7</th>\n      <td>2</td>\n      <td>JULIET</td>\n      <td>40</td>\n      <td>19.512195</td>\n    </tr>\n    <tr>\n      <th>8</th>\n      <td>2</td>\n      <td>MERCUTIO</td>\n      <td>34</td>\n      <td>16.585366</td>\n    </tr>\n    <tr>\n      <th>9</th>\n      <td>2</td>\n      <td>NURSE</td>\n      <td>32</td>\n      <td>15.609756</td>\n    </tr>\n    <tr>\n      <th>10</th>\n      <td>2</td>\n      <td>OTHER</td>\n      <td>18</td>\n      <td>8.780488</td>\n    </tr>\n    <tr>\n      <th>11</th>\n      <td>2</td>\n      <td>ROMEO</td>\n      <td>65</td>\n      <td>31.707317</td>\n    </tr>\n    <tr>\n      <th>12</th>\n      <td>3</td>\n      <td>JULIET</td>\n      <td>40</td>\n      <td>20.304569</td>\n    </tr>\n    <tr>\n      <th>13</th>\n      <td>3</td>\n      <td>LADY CAPULET</td>\n      <td>19</td>\n      <td>9.644670</td>\n    </tr>\n    <tr>\n      <th>14</th>\n      <td>3</td>\n      <td>MERCUTIO</td>\n      <td>17</td>\n      <td>8.629442</td>\n    </tr>\n    <tr>\n      <th>15</th>\n      <td>3</td>\n      <td>NURSE</td>\n      <td>27</td>\n      <td>13.705584</td>\n    </tr>\n    <tr>\n      <th>16</th>\n      <td>3</td>\n      <td>OTHER</td>\n      <td>60</td>\n      <td>30.456853</td>\n    </tr>\n    <tr>\n      <th>17</th>\n      <td>3</td>\n      <td>ROMEO</td>\n      <td>34</td>\n      <td>17.258883</td>\n    </tr>\n    <tr>\n      <th>18</th>\n      <td>4</td>\n      <td>CAPULET</td>\n      <td>20</td>\n      <td>17.391304</td>\n    </tr>\n    <tr>\n      <th>19</th>\n      <td>4</td>\n      <td>FRIAR LAURENCE</td>\n      <td>12</td>\n      <td>10.434783</td>\n    </tr>\n    <tr>\n      <th>20</th>\n      <td>4</td>\n      <td>JULIET</td>\n      <td>19</td>\n      <td>16.521739</td>\n    </tr>\n    <tr>\n      <th>21</th>\n      <td>4</td>\n      <td>LADY CAPULET</td>\n      <td>11</td>\n      <td>9.565217</td>\n    </tr>\n    <tr>\n      <th>22</th>\n      <td>4</td>\n      <td>OTHER</td>\n      <td>40</td>\n      <td>34.782609</td>\n    </tr>\n    <tr>\n      <th>23</th>\n      <td>4</td>\n      <td>PARIS</td>\n      <td>13</td>\n      <td>11.304348</td>\n    </tr>\n    <tr>\n      <th>24</th>\n      <td>5</td>\n      <td>BALTHASAR</td>\n      <td>12</td>\n      <td>13.636364</td>\n    </tr>\n    <tr>\n      <th>25</th>\n      <td>5</td>\n      <td>FIRST WATCHMAN</td>\n      <td>6</td>\n      <td>6.818182</td>\n    </tr>\n    <tr>\n      <th>26</th>\n      <td>5</td>\n      <td>FRIAR LAURENCE</td>\n      <td>14</td>\n      <td>15.909091</td>\n    </tr>\n    <tr>\n      <th>27</th>\n      <td>5</td>\n      <td>OTHER</td>\n      <td>31</td>\n      <td>35.227273</td>\n    </tr>\n    <tr>\n      <th>28</th>\n      <td>5</td>\n      <td>PRINCE</td>\n      <td>11</td>\n      <td>12.500000</td>\n    </tr>\n    <tr>\n      <th>29</th>\n      <td>5</td>\n      <td>ROMEO</td>\n      <td>14</td>\n      <td>15.909091</td>\n    </tr>\n  </tbody>\n</table>\n</div>"
     },
     "execution_count": 22,
     "metadata": {},
     "output_type": "execute_result"
    }
   ],
   "source": [
    "def label_top5(group):\n",
    "        # Get top 5 players\n",
    "        top5 = group.nlargest(5, 'LineCount')\n",
    "        top5_players = top5['Player'].tolist()\n",
    "        # Label others as 'OTHER'\n",
    "        group['Player'] = group['Player'].apply(lambda p: p if p in top5_players else 'OTHER')\n",
    "        return group\n",
    "\n",
    "\n",
    "labeled = merged.groupby('Act', group_keys=False).apply(label_top5)\n",
    "\n",
    "  \n",
    "final = labeled.groupby(['Act', 'Player'], as_index=False).agg({\n",
    "    'LineCount': 'sum',\n",
    "    'LinePercent': 'sum'\n",
    "})\n",
    "\n",
    "final"
   ],
   "metadata": {
    "collapsed": false,
    "ExecuteTime": {
     "end_time": "2025-05-14T13:49:47.748963100Z",
     "start_time": "2025-05-14T13:49:47.733237900Z"
    }
   },
   "id": "c79c26cc3c94fa09"
  },
  {
   "cell_type": "code",
   "execution_count": null,
   "outputs": [],
   "source": [
    "def summarize_lines(dataframe) : \n",
    "    '''\n",
    "        Sums each player's total of number of lines and  its\n",
    "        corresponding percentage per act.\n",
    "\n",
    "        The sum of lines per player per act is in a new\n",
    "        column named 'PlayerLine'.\n",
    "\n",
    "        The percentage of lines per player per act is\n",
    "        in a new column named 'PlayerPercent'\n",
    "\n",
    "        Args:\n",
    "            my_df: The pandas dataframe containing the data from the .csv file\n",
    "        Returns:\n",
    "            The modified pandas dataframe containing the\n",
    "            information described above.\n",
    "    '''\n",
    "    "
   ],
   "metadata": {
    "collapsed": false
   },
   "id": "64646599701806a7"
  }
 ],
 "metadata": {
  "kernelspec": {
   "display_name": "Python 3",
   "language": "python",
   "name": "python3"
  },
  "language_info": {
   "codemirror_mode": {
    "name": "ipython",
    "version": 2
   },
   "file_extension": ".py",
   "mimetype": "text/x-python",
   "name": "python",
   "nbconvert_exporter": "python",
   "pygments_lexer": "ipython2",
   "version": "2.7.6"
  }
 },
 "nbformat": 4,
 "nbformat_minor": 5
}
